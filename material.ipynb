{
 "cells": [
  {
   "cell_type": "code",
   "execution_count": 1,
   "metadata": {
    "collapsed": false,
    "deletable": true,
    "editable": true
   },
   "outputs": [
    {
     "name": "stderr",
     "output_type": "stream",
     "text": [
      "\n",
      "Bad key \"ytick.right\" on line 6 in\n",
      "/Users/users/breddels/.config/matplotlib/stylelib/bigfont.mplstyle.\n",
      "You probably need to get an updated matplotlibrc file from\n",
      "http://github.com/matplotlib/matplotlib/blob/master/matplotlibrc.template\n",
      "or from the matplotlib source distribution\n",
      "\n",
      "Bad key \"xtick.top\" on line 5 in\n",
      "/Users/users/breddels/.config/matplotlib/stylelib/bigfont.mplstyle.\n",
      "You probably need to get an updated matplotlibrc file from\n",
      "http://github.com/matplotlib/matplotlib/blob/master/matplotlibrc.template\n",
      "or from the matplotlib source distribution\n",
      "\n",
      "Bad key \"ytick.right\" on line 6 in\n",
      "/Users/users/breddels/.config/matplotlib/stylelib/jovanstylez.mplstyle.\n",
      "You probably need to get an updated matplotlibrc file from\n",
      "http://github.com/matplotlib/matplotlib/blob/master/matplotlibrc.template\n",
      "or from the matplotlib source distribution\n",
      "\n",
      "Bad key \"xtick.top\" on line 5 in\n",
      "/Users/users/breddels/.config/matplotlib/stylelib/jovanstylez.mplstyle.\n",
      "You probably need to get an updated matplotlibrc file from\n",
      "http://github.com/matplotlib/matplotlib/blob/master/matplotlibrc.template\n",
      "or from the matplotlib source distribution\n"
     ]
    }
   ],
   "source": [
    "import vaex\n",
    "import numpy as np\n",
    "import matplotlib.pyplot as plt"
   ]
  },
  {
   "cell_type": "code",
   "execution_count": 2,
   "metadata": {
    "collapsed": true
   },
   "outputs": [],
   "source": [
    "gaia = vaex.open(\"/Users/users/breddels/gaia/gaia-dr1.hdf5\")"
   ]
  },
  {
   "cell_type": "code",
   "execution_count": 3,
   "metadata": {
    "collapsed": true
   },
   "outputs": [],
   "source": [
    "limits = [[180, -180], [-90, 90]]"
   ]
  },
  {
   "cell_type": "code",
   "execution_count": 15,
   "metadata": {
    "collapsed": false
   },
   "outputs": [],
   "source": [
    "!mkdir -p /tmp/movie/\n",
    "!rm /tmp/movie/*.png"
   ]
  },
  {
   "cell_type": "code",
   "execution_count": 5,
   "metadata": {
    "collapsed": false
   },
   "outputs": [],
   "source": [
    "plt.style.use(\"bigfont\")"
   ]
  },
  {
   "cell_type": "code",
   "execution_count": 27,
   "metadata": {
    "collapsed": false
   },
   "outputs": [
    {
     "name": "stderr",
     "output_type": "stream",
     "text": [
      "/Software/users/modules/7/software/anaconda3/4.2.0/lib/python3.5/site-packages/matplotlib/pyplot.py:524: RuntimeWarning: More than 20 figures have been opened. Figures created through the pyplot interface (`matplotlib.pyplot.figure`) are retained until explicitly closed and may consume too much memory. (To control this warning, see the rcParam `figure.max_open_warning`).\n",
      "  max_open_warning, RuntimeWarning)\n"
     ]
    }
   ],
   "source": [
    "scatter = False\n",
    "name = \"scatter\" if scatter else \"histogram\"\n",
    "for i, logN in enumerate(np.linspace(3, 9, 100, endpoint=True)):\n",
    "    N = int(10**logN)\n",
    "    binby = [\"(l+180)%360-180\", \"b\"]\n",
    "    shape = 512\n",
    "    gaia.set_active_range(0, N)\n",
    "    count = gaia.count(binby=binby, limits=limits, shape=shape)\n",
    "    plt.figure(figsize=(10,6))\n",
    "    if scatter:\n",
    "        plt.imshow(count.T > 0, cmap=\"Greys\", vmin=0, vmax=1, origin=\"lower\", extent=limits[0] + limits[1])\n",
    "    else:\n",
    "        plt.imshow(np.log10(count.T+1), cmap=\"Greys\", origin=\"lower\", extent=limits[0] + limits[1])\n",
    "    plt.title(\"N = {:,}\".format(N))\n",
    "    plt.xlabel(\"ra\")\n",
    "    plt.ylabel(\"dec\")\n",
    "    plt.savefig(\"/tmp/movie/frame-%s-%05d\" % (name, i))\n",
    "    plt.close()\n",
    "    #plt.show()\n",
    "    "
   ]
  },
  {
   "cell_type": "code",
   "execution_count": 28,
   "metadata": {
    "collapsed": false
   },
   "outputs": [],
   "source": [
    "!convert -delay 6 /tmp/movie/frame-{name}*.png -loop 1 gaia-{name}.gif    "
   ]
  },
  {
   "cell_type": "code",
   "execution_count": 40,
   "metadata": {
    "collapsed": false
   },
   "outputs": [
    {
     "name": "stdout",
     "output_type": "stream",
     "text": [
      "ffmpeg version 2.6.8 Copyright (c) 2000-2016 the FFmpeg developers\n",
      "  built with gcc 4.8.5 (GCC) 20150623 (Red Hat 4.8.5-4)\n",
      "  configuration: --prefix=/usr --bindir=/usr/bin --datadir=/usr/share/ffmpeg --incdir=/usr/include/ffmpeg --libdir=/usr/lib64 --mandir=/usr/share/man --arch=x86_64 --optflags='-O2 -g -pipe -Wall -Wp,-D_FORTIFY_SOURCE=2 -fexceptions -fstack-protector-strong --param=ssp-buffer-size=4 -grecord-gcc-switches -m64 -mtune=generic' --enable-bzlib --disable-crystalhd --enable-gnutls --enable-ladspa --enable-libass --enable-libcdio --enable-libdc1394 --enable-libfaac --enable-nonfree --enable-libfdk-aac --enable-nonfree --disable-indev=jack --enable-libfreetype --enable-libgsm --enable-libmp3lame --enable-openal --enable-libopenjpeg --enable-libopus --enable-libpulse --enable-libschroedinger --enable-libsoxr --enable-libspeex --enable-libtheora --enable-libvorbis --enable-libv4l2 --enable-libx264 --enable-libx265 --enable-libxvid --enable-x11grab --enable-avfilter --enable-avresample --enable-postproc --enable-pthreads --disable-static --enable-shared --enable-gpl --disable-debug --disable-stripping --shlibdir=/usr/lib64 --enable-runtime-cpudetect\n",
      "  libavutil      54. 20.100 / 54. 20.100\n",
      "  libavcodec     56. 26.100 / 56. 26.100\n",
      "  libavformat    56. 25.101 / 56. 25.101\n",
      "  libavdevice    56.  4.100 / 56.  4.100\n",
      "  libavfilter     5. 11.102 /  5. 11.102\n",
      "  libavresample   2.  1.  0 /  2.  1.  0\n",
      "  libswscale      3.  1.101 /  3.  1.101\n",
      "  libswresample   1.  1.100 /  1.  1.100\n",
      "  libpostproc    53.  3.100 / 53.  3.100\n",
      "Input #0, gif, from 'gaia-histogram.gif':\n",
      "  Duration: N/A, bitrate: N/A\n",
      "    Stream #0:0: Video: gif, bgra, 868x481, 16.67 fps, 16.67 tbr, 100 tbn, 100 tbc\n",
      "\u001b[1;36m[libx264 @ 0x24b7500] \u001b[0musing cpu capabilities: MMX2 SSE2Fast SSSE3 SSE4.2 AVX AVX2 FMA3 LZCNT BMI2\n",
      "\u001b[1;36m[libx264 @ 0x24b7500] \u001b[0mprofile High, level 3.1\n",
      "\u001b[1;36m[libx264 @ 0x24b7500] \u001b[0m264 - core 142 r2495 6a301b6 - H.264/MPEG-4 AVC codec - Copyleft 2003-2014 - http://www.videolan.org/x264.html - options: cabac=1 ref=3 deblock=1:0:0 analyse=0x3:0x113 me=hex subme=7 psy=1 psy_rd=1.00:0.00 mixed_ref=1 me_range=16 chroma_me=1 trellis=1 8x8dct=1 cqm=0 deadzone=21,11 fast_pskip=1 chroma_qp_offset=-2 threads=48 lookahead_threads=3 sliced_threads=0 nr=0 decimate=1 interlaced=0 bluray_compat=0 constrained_intra=0 bframes=3 b_pyramid=2 b_adapt=1 b_bias=0 direct=1 weightb=1 open_gop=0 weightp=2 keyint=250 keyint_min=16 scenecut=40 intra_refresh=0 rc_lookahead=40 rc=crf mbtree=1 crf=23.0 qcomp=0.60 qpmin=0 qpmax=69 qpstep=4 ip_ratio=1.40 aq=1:1.00\n",
      "Output #0, mp4, to 'gaia-histogram.mp4':\n",
      "  Metadata:\n",
      "    encoder         : Lavf56.25.101\n",
      "    Stream #0:0: Video: h264 (libx264) ([33][0][0][0] / 0x0021), yuv420p, 868x480, q=-1--1, 16.67 fps, 12800 tbn, 16.67 tbc\n",
      "    Metadata:\n",
      "      encoder         : Lavc56.26.100 libx264\n",
      "Stream mapping:\n",
      "  Stream #0:0 -> #0:0 (gif (native) -> h264 (libx264))\n",
      "Press [q] to stop, [?] for help\n",
      "frame=  100 fps= 97 q=-1.0 Lsize=     671kB time=00:00:05.88 bitrate= 934.3kbits/s    \n",
      "video:669kB audio:0kB subtitle:0kB other streams:0kB global headers:0kB muxing overhead: 0.286833%\n",
      "\u001b[1;36m[libx264 @ 0x24b7500] \u001b[0mframe I:1     Avg QP:19.68  size: 13175\n",
      "\u001b[1;36m[libx264 @ 0x24b7500] \u001b[0mframe P:52    Avg QP:22.32  size: 11935\n",
      "\u001b[1;36m[libx264 @ 0x24b7500] \u001b[0mframe B:47    Avg QP:26.80  size:  1069\n",
      "\u001b[1;36m[libx264 @ 0x24b7500] \u001b[0mconsecutive B-frames: 16.0% 60.0% 12.0% 12.0%\n",
      "\u001b[1;36m[libx264 @ 0x24b7500] \u001b[0mmb I  I16..4: 13.8% 60.1% 26.1%\n",
      "\u001b[1;36m[libx264 @ 0x24b7500] \u001b[0mmb P  I16..4:  2.6%  6.5%  0.4%  P16..4: 36.5% 11.4% 11.1%  0.0%  0.0%    skip:31.4%\n",
      "\u001b[1;36m[libx264 @ 0x24b7500] \u001b[0mmb B  I16..4:  0.0%  0.2%  0.1%  B16..8: 18.8%  1.9%  0.8%  direct: 1.1%  skip:77.1%  L0:33.2% L1:57.6% BI: 9.1%\n",
      "\u001b[1;36m[libx264 @ 0x24b7500] \u001b[0m8x8 transform intra:66.7% inter:52.2%\n",
      "\u001b[1;36m[libx264 @ 0x24b7500] \u001b[0mcoded y,uvDC,uvAC intra: 6.7% 0.0% 0.0% inter: 21.1% 0.0% 0.0%\n",
      "\u001b[1;36m[libx264 @ 0x24b7500] \u001b[0mi16 v,h,dc,p: 72% 26%  2%  1%\n",
      "\u001b[1;36m[libx264 @ 0x24b7500] \u001b[0mi8 v,h,dc,ddl,ddr,vr,hd,vl,hu: 15%  7% 77%  0%  0%  0%  0%  0%  0%\n",
      "\u001b[1;36m[libx264 @ 0x24b7500] \u001b[0mi4 v,h,dc,ddl,ddr,vr,hd,vl,hu: 39% 19% 28%  2%  2%  2%  2%  3%  2%\n",
      "\u001b[1;36m[libx264 @ 0x24b7500] \u001b[0mi8c dc,h,v,p: 100%  0%  0%  0%\n",
      "\u001b[1;36m[libx264 @ 0x24b7500] \u001b[0mWeighted P-Frames: Y:53.8% UV:0.0%\n",
      "\u001b[1;36m[libx264 @ 0x24b7500] \u001b[0mref P L0: 41.7% 38.2% 17.2%  2.1%  0.8%\n",
      "\u001b[1;36m[libx264 @ 0x24b7500] \u001b[0mref B L0: 83.3% 15.2%  1.6%\n",
      "\u001b[1;36m[libx264 @ 0x24b7500] \u001b[0mref B L1: 98.5%  1.5%\n",
      "\u001b[1;36m[libx264 @ 0x24b7500] \u001b[0mkb/s:912.04\n"
     ]
    }
   ],
   "source": [
    "!ffmpeg -f gif -y -i gaia-histogram.gif -vf \"scale=trunc(iw/2)*2:trunc(ih/2)*2\" -pix_fmt yuv420p gaia-histogram.mp4 "
   ]
  },
  {
   "cell_type": "code",
   "execution_count": 41,
   "metadata": {
    "collapsed": false
   },
   "outputs": [
    {
     "name": "stdout",
     "output_type": "stream",
     "text": [
      "ffmpeg version 2.6.8 Copyright (c) 2000-2016 the FFmpeg developers\n",
      "  built with gcc 4.8.5 (GCC) 20150623 (Red Hat 4.8.5-4)\n",
      "  configuration: --prefix=/usr --bindir=/usr/bin --datadir=/usr/share/ffmpeg --incdir=/usr/include/ffmpeg --libdir=/usr/lib64 --mandir=/usr/share/man --arch=x86_64 --optflags='-O2 -g -pipe -Wall -Wp,-D_FORTIFY_SOURCE=2 -fexceptions -fstack-protector-strong --param=ssp-buffer-size=4 -grecord-gcc-switches -m64 -mtune=generic' --enable-bzlib --disable-crystalhd --enable-gnutls --enable-ladspa --enable-libass --enable-libcdio --enable-libdc1394 --enable-libfaac --enable-nonfree --enable-libfdk-aac --enable-nonfree --disable-indev=jack --enable-libfreetype --enable-libgsm --enable-libmp3lame --enable-openal --enable-libopenjpeg --enable-libopus --enable-libpulse --enable-libschroedinger --enable-libsoxr --enable-libspeex --enable-libtheora --enable-libvorbis --enable-libv4l2 --enable-libx264 --enable-libx265 --enable-libxvid --enable-x11grab --enable-avfilter --enable-avresample --enable-postproc --enable-pthreads --disable-static --enable-shared --enable-gpl --disable-debug --disable-stripping --shlibdir=/usr/lib64 --enable-runtime-cpudetect\n",
      "  libavutil      54. 20.100 / 54. 20.100\n",
      "  libavcodec     56. 26.100 / 56. 26.100\n",
      "  libavformat    56. 25.101 / 56. 25.101\n",
      "  libavdevice    56.  4.100 / 56.  4.100\n",
      "  libavfilter     5. 11.102 /  5. 11.102\n",
      "  libavresample   2.  1.  0 /  2.  1.  0\n",
      "  libswscale      3.  1.101 /  3.  1.101\n",
      "  libswresample   1.  1.100 /  1.  1.100\n",
      "  libpostproc    53.  3.100 / 53.  3.100\n",
      "Input #0, gif, from 'gaia-scatter.gif':\n",
      "  Duration: N/A, bitrate: N/A\n",
      "    Stream #0:0: Video: gif, bgra, 868x481, 16.67 fps, 16.67 tbr, 100 tbn, 100 tbc\n",
      "\u001b[1;36m[libx264 @ 0xb25a00] \u001b[0musing cpu capabilities: MMX2 SSE2Fast SSSE3 SSE4.2 AVX AVX2 FMA3 LZCNT BMI2\n",
      "\u001b[1;36m[libx264 @ 0xb25a00] \u001b[0mprofile High, level 3.1\n",
      "\u001b[1;36m[libx264 @ 0xb25a00] \u001b[0m264 - core 142 r2495 6a301b6 - H.264/MPEG-4 AVC codec - Copyleft 2003-2014 - http://www.videolan.org/x264.html - options: cabac=1 ref=3 deblock=1:0:0 analyse=0x3:0x113 me=hex subme=7 psy=1 psy_rd=1.00:0.00 mixed_ref=1 me_range=16 chroma_me=1 trellis=1 8x8dct=1 cqm=0 deadzone=21,11 fast_pskip=1 chroma_qp_offset=-2 threads=48 lookahead_threads=3 sliced_threads=0 nr=0 decimate=1 interlaced=0 bluray_compat=0 constrained_intra=0 bframes=3 b_pyramid=2 b_adapt=1 b_bias=0 direct=1 weightb=1 open_gop=0 weightp=2 keyint=250 keyint_min=16 scenecut=40 intra_refresh=0 rc_lookahead=40 rc=crf mbtree=1 crf=23.0 qcomp=0.60 qpmin=0 qpmax=69 qpstep=4 ip_ratio=1.40 aq=1:1.00\n",
      "Output #0, mp4, to 'gaia-scatter.mp4':\n",
      "  Metadata:\n",
      "    encoder         : Lavf56.25.101\n",
      "    Stream #0:0: Video: h264 (libx264) ([33][0][0][0] / 0x0021), yuv420p, 868x480, q=-1--1, 16.67 fps, 12800 tbn, 16.67 tbc\n",
      "    Metadata:\n",
      "      encoder         : Lavc56.26.100 libx264\n",
      "Stream mapping:\n",
      "  Stream #0:0 -> #0:0 (gif (native) -> h264 (libx264))\n",
      "Press [q] to stop, [?] for help\n",
      "frame=  100 fps= 92 q=-1.0 Lsize=    1565kB time=00:00:05.88 bitrate=2180.6kbits/s    \n",
      "video:1564kB audio:0kB subtitle:0kB other streams:0kB global headers:0kB muxing overhead: 0.092178%\n",
      "\u001b[1;36m[libx264 @ 0xb25a00] \u001b[0mframe I:1     Avg QP:19.86  size: 15324\n",
      "\u001b[1;36m[libx264 @ 0xb25a00] \u001b[0mframe P:81    Avg QP:24.10  size: 19097\n",
      "\u001b[1;36m[libx264 @ 0xb25a00] \u001b[0mframe B:18    Avg QP:28.70  size:  2132\n",
      "\u001b[1;36m[libx264 @ 0xb25a00] \u001b[0mconsecutive B-frames: 74.0%  6.0%  0.0% 20.0%\n",
      "\u001b[1;36m[libx264 @ 0xb25a00] \u001b[0mmb I  I16..4: 12.5% 60.3% 27.2%\n",
      "\u001b[1;36m[libx264 @ 0xb25a00] \u001b[0mmb P  I16..4:  1.3% 10.6%  1.3%  P16..4: 32.4%  4.0%  5.2%  0.0%  0.0%    skip:45.2%\n",
      "\u001b[1;36m[libx264 @ 0xb25a00] \u001b[0mmb B  I16..4:  0.0%  0.5%  0.1%  B16..8:  8.3%  2.6%  1.8%  direct: 1.6%  skip:85.2%  L0:42.5% L1:52.4% BI: 5.1%\n",
      "\u001b[1;36m[libx264 @ 0xb25a00] \u001b[0m8x8 transform intra:78.5% inter:4.5%\n",
      "\u001b[1;36m[libx264 @ 0xb25a00] \u001b[0mcoded y,uvDC,uvAC intra: 7.2% 0.0% 0.0% inter: 23.2% 0.0% 0.0%\n",
      "\u001b[1;36m[libx264 @ 0xb25a00] \u001b[0mi16 v,h,dc,p: 75% 20%  4%  0%\n",
      "\u001b[1;36m[libx264 @ 0xb25a00] \u001b[0mi8 v,h,dc,ddl,ddr,vr,hd,vl,hu: 21% 15% 64%  0%  0%  0%  0%  0%  0%\n",
      "\u001b[1;36m[libx264 @ 0xb25a00] \u001b[0mi4 v,h,dc,ddl,ddr,vr,hd,vl,hu: 30% 21% 35%  2%  3%  2%  3%  2%  3%\n",
      "\u001b[1;36m[libx264 @ 0xb25a00] \u001b[0mi8c dc,h,v,p: 100%  0%  0%  0%\n",
      "\u001b[1;36m[libx264 @ 0xb25a00] \u001b[0mWeighted P-Frames: Y:34.6% UV:0.0%\n",
      "\u001b[1;36m[libx264 @ 0xb25a00] \u001b[0mref P L0: 44.6% 22.3% 30.3%  1.9%  0.9%\n",
      "\u001b[1;36m[libx264 @ 0xb25a00] \u001b[0mref B L0: 84.0% 13.8%  2.1%\n",
      "\u001b[1;36m[libx264 @ 0xb25a00] \u001b[0mref B L1: 96.7%  3.3%\n",
      "\u001b[1;36m[libx264 @ 0xb25a00] \u001b[0mkb/s:2134.07\n",
      "ffmpeg version 2.6.8 Copyright (c) 2000-2016 the FFmpeg developers\n",
      "  built with gcc 4.8.5 (GCC) 20150623 (Red Hat 4.8.5-4)\n",
      "  configuration: --prefix=/usr --bindir=/usr/bin --datadir=/usr/share/ffmpeg --incdir=/usr/include/ffmpeg --libdir=/usr/lib64 --mandir=/usr/share/man --arch=x86_64 --optflags='-O2 -g -pipe -Wall -Wp,-D_FORTIFY_SOURCE=2 -fexceptions -fstack-protector-strong --param=ssp-buffer-size=4 -grecord-gcc-switches -m64 -mtune=generic' --enable-bzlib --disable-crystalhd --enable-gnutls --enable-ladspa --enable-libass --enable-libcdio --enable-libdc1394 --enable-libfaac --enable-nonfree --enable-libfdk-aac --enable-nonfree --disable-indev=jack --enable-libfreetype --enable-libgsm --enable-libmp3lame --enable-openal --enable-libopenjpeg --enable-libopus --enable-libpulse --enable-libschroedinger --enable-libsoxr --enable-libspeex --enable-libtheora --enable-libvorbis --enable-libv4l2 --enable-libx264 --enable-libx265 --enable-libxvid --enable-x11grab --enable-avfilter --enable-avresample --enable-postproc --enable-pthreads --disable-static --enable-shared --enable-gpl --disable-debug --disable-stripping --shlibdir=/usr/lib64 --enable-runtime-cpudetect\n",
      "  libavutil      54. 20.100 / 54. 20.100\n",
      "  libavcodec     56. 26.100 / 56. 26.100\n",
      "  libavformat    56. 25.101 / 56. 25.101\n",
      "  libavdevice    56.  4.100 / 56.  4.100\n",
      "  libavfilter     5. 11.102 /  5. 11.102\n",
      "  libavresample   2.  1.  0 /  2.  1.  0\n",
      "  libswscale      3.  1.101 /  3.  1.101\n",
      "  libswresample   1.  1.100 /  1.  1.100\n",
      "  libpostproc    53.  3.100 / 53.  3.100\n",
      "Input #0, gif, from 'gaia-histogram.gif':\n",
      "  Duration: N/A, bitrate: N/A\n",
      "    Stream #0:0: Video: gif, bgra, 868x481, 16.67 fps, 16.67 tbr, 100 tbn, 100 tbc\n",
      "\u001b[1;36m[libx264 @ 0x1f5a500] \u001b[0musing cpu capabilities: MMX2 SSE2Fast SSSE3 SSE4.2 AVX AVX2 FMA3 LZCNT BMI2\n",
      "\u001b[1;36m[libx264 @ 0x1f5a500] \u001b[0mprofile High, level 3.1\n",
      "\u001b[1;36m[libx264 @ 0x1f5a500] \u001b[0m264 - core 142 r2495 6a301b6 - H.264/MPEG-4 AVC codec - Copyleft 2003-2014 - http://www.videolan.org/x264.html - options: cabac=1 ref=3 deblock=1:0:0 analyse=0x3:0x113 me=hex subme=7 psy=1 psy_rd=1.00:0.00 mixed_ref=1 me_range=16 chroma_me=1 trellis=1 8x8dct=1 cqm=0 deadzone=21,11 fast_pskip=1 chroma_qp_offset=-2 threads=48 lookahead_threads=3 sliced_threads=0 nr=0 decimate=1 interlaced=0 bluray_compat=0 constrained_intra=0 bframes=3 b_pyramid=2 b_adapt=1 b_bias=0 direct=1 weightb=1 open_gop=0 weightp=2 keyint=250 keyint_min=16 scenecut=40 intra_refresh=0 rc_lookahead=40 rc=crf mbtree=1 crf=23.0 qcomp=0.60 qpmin=0 qpmax=69 qpstep=4 ip_ratio=1.40 aq=1:1.00\n",
      "Output #0, mp4, to 'gaia-histogram.mp4':\n",
      "  Metadata:\n",
      "    encoder         : Lavf56.25.101\n",
      "    Stream #0:0: Video: h264 (libx264) ([33][0][0][0] / 0x0021), yuv420p, 868x480, q=-1--1, 16.67 fps, 12800 tbn, 16.67 tbc\n",
      "    Metadata:\n",
      "      encoder         : Lavc56.26.100 libx264\n",
      "Stream mapping:\n",
      "  Stream #0:0 -> #0:0 (gif (native) -> h264 (libx264))\n",
      "Press [q] to stop, [?] for help\n",
      "frame=  100 fps=0.0 q=-1.0 Lsize=     671kB time=00:00:05.88 bitrate= 934.3kbits/s    \n",
      "video:669kB audio:0kB subtitle:0kB other streams:0kB global headers:0kB muxing overhead: 0.286833%\n",
      "\u001b[1;36m[libx264 @ 0x1f5a500] \u001b[0mframe I:1     Avg QP:19.68  size: 13175\n",
      "\u001b[1;36m[libx264 @ 0x1f5a500] \u001b[0mframe P:52    Avg QP:22.32  size: 11935\n",
      "\u001b[1;36m[libx264 @ 0x1f5a500] \u001b[0mframe B:47    Avg QP:26.80  size:  1069\n",
      "\u001b[1;36m[libx264 @ 0x1f5a500] \u001b[0mconsecutive B-frames: 16.0% 60.0% 12.0% 12.0%\n",
      "\u001b[1;36m[libx264 @ 0x1f5a500] \u001b[0mmb I  I16..4: 13.8% 60.1% 26.1%\n",
      "\u001b[1;36m[libx264 @ 0x1f5a500] \u001b[0mmb P  I16..4:  2.6%  6.5%  0.4%  P16..4: 36.5% 11.4% 11.1%  0.0%  0.0%    skip:31.4%\n",
      "\u001b[1;36m[libx264 @ 0x1f5a500] \u001b[0mmb B  I16..4:  0.0%  0.2%  0.1%  B16..8: 18.8%  1.9%  0.8%  direct: 1.1%  skip:77.1%  L0:33.2% L1:57.6% BI: 9.1%\n",
      "\u001b[1;36m[libx264 @ 0x1f5a500] \u001b[0m8x8 transform intra:66.7% inter:52.2%\n",
      "\u001b[1;36m[libx264 @ 0x1f5a500] \u001b[0mcoded y,uvDC,uvAC intra: 6.7% 0.0% 0.0% inter: 21.1% 0.0% 0.0%\n",
      "\u001b[1;36m[libx264 @ 0x1f5a500] \u001b[0mi16 v,h,dc,p: 72% 26%  2%  1%\n",
      "\u001b[1;36m[libx264 @ 0x1f5a500] \u001b[0mi8 v,h,dc,ddl,ddr,vr,hd,vl,hu: 15%  7% 77%  0%  0%  0%  0%  0%  0%\n",
      "\u001b[1;36m[libx264 @ 0x1f5a500] \u001b[0mi4 v,h,dc,ddl,ddr,vr,hd,vl,hu: 39% 19% 28%  2%  2%  2%  2%  3%  2%\n",
      "\u001b[1;36m[libx264 @ 0x1f5a500] \u001b[0mi8c dc,h,v,p: 100%  0%  0%  0%\n",
      "\u001b[1;36m[libx264 @ 0x1f5a500] \u001b[0mWeighted P-Frames: Y:53.8% UV:0.0%\n",
      "\u001b[1;36m[libx264 @ 0x1f5a500] \u001b[0mref P L0: 41.7% 38.2% 17.2%  2.1%  0.8%\n",
      "\u001b[1;36m[libx264 @ 0x1f5a500] \u001b[0mref B L0: 83.3% 15.2%  1.6%\n",
      "\u001b[1;36m[libx264 @ 0x1f5a500] \u001b[0mref B L1: 98.5%  1.5%\n",
      "\u001b[1;36m[libx264 @ 0x1f5a500] \u001b[0mkb/s:912.04\n"
     ]
    }
   ],
   "source": [
    "for name in [\"scatter\", \"histogram\"]:\n",
    "    !ffmpeg -f gif -y -i gaia-{name}.gif -vf \"scale=trunc(iw/2)*2:trunc(ih/2)*2\" -pix_fmt yuv420p gaia-{name}.mp4 "
   ]
  },
  {
   "cell_type": "code",
   "execution_count": 25,
   "metadata": {
    "collapsed": false
   },
   "outputs": [
    {
     "name": "stdout",
     "output_type": "stream",
     "text": [
      "/tmp/movie/frame-00000.png  /tmp/movie/frame-00050.png\r\n",
      "/tmp/movie/frame-00001.png  /tmp/movie/frame-00051.png\r\n",
      "/tmp/movie/frame-00002.png  /tmp/movie/frame-00052.png\r\n",
      "/tmp/movie/frame-00003.png  /tmp/movie/frame-00053.png\r\n",
      "/tmp/movie/frame-00004.png  /tmp/movie/frame-00054.png\r\n",
      "/tmp/movie/frame-00005.png  /tmp/movie/frame-00055.png\r\n",
      "/tmp/movie/frame-00006.png  /tmp/movie/frame-00056.png\r\n",
      "/tmp/movie/frame-00007.png  /tmp/movie/frame-00057.png\r\n",
      "/tmp/movie/frame-00008.png  /tmp/movie/frame-00058.png\r\n",
      "/tmp/movie/frame-00009.png  /tmp/movie/frame-00059.png\r\n",
      "/tmp/movie/frame-00010.png  /tmp/movie/frame-00060.png\r\n",
      "/tmp/movie/frame-00011.png  /tmp/movie/frame-00061.png\r\n",
      "/tmp/movie/frame-00012.png  /tmp/movie/frame-00062.png\r\n",
      "/tmp/movie/frame-00013.png  /tmp/movie/frame-00063.png\r\n",
      "/tmp/movie/frame-00014.png  /tmp/movie/frame-00064.png\r\n",
      "/tmp/movie/frame-00015.png  /tmp/movie/frame-00065.png\r\n",
      "/tmp/movie/frame-00016.png  /tmp/movie/frame-00066.png\r\n",
      "/tmp/movie/frame-00017.png  /tmp/movie/frame-00067.png\r\n",
      "/tmp/movie/frame-00018.png  /tmp/movie/frame-00068.png\r\n",
      "/tmp/movie/frame-00019.png  /tmp/movie/frame-00069.png\r\n",
      "/tmp/movie/frame-00020.png  /tmp/movie/frame-00070.png\r\n",
      "/tmp/movie/frame-00021.png  /tmp/movie/frame-00071.png\r\n",
      "/tmp/movie/frame-00022.png  /tmp/movie/frame-00072.png\r\n",
      "/tmp/movie/frame-00023.png  /tmp/movie/frame-00073.png\r\n",
      "/tmp/movie/frame-00024.png  /tmp/movie/frame-00074.png\r\n",
      "/tmp/movie/frame-00025.png  /tmp/movie/frame-00075.png\r\n",
      "/tmp/movie/frame-00026.png  /tmp/movie/frame-00076.png\r\n",
      "/tmp/movie/frame-00027.png  /tmp/movie/frame-00077.png\r\n",
      "/tmp/movie/frame-00028.png  /tmp/movie/frame-00078.png\r\n",
      "/tmp/movie/frame-00029.png  /tmp/movie/frame-00079.png\r\n",
      "/tmp/movie/frame-00030.png  /tmp/movie/frame-00080.png\r\n",
      "/tmp/movie/frame-00031.png  /tmp/movie/frame-00081.png\r\n",
      "/tmp/movie/frame-00032.png  /tmp/movie/frame-00082.png\r\n",
      "/tmp/movie/frame-00033.png  /tmp/movie/frame-00083.png\r\n",
      "/tmp/movie/frame-00034.png  /tmp/movie/frame-00084.png\r\n",
      "/tmp/movie/frame-00035.png  /tmp/movie/frame-00085.png\r\n",
      "/tmp/movie/frame-00036.png  /tmp/movie/frame-00086.png\r\n",
      "/tmp/movie/frame-00037.png  /tmp/movie/frame-00087.png\r\n",
      "/tmp/movie/frame-00038.png  /tmp/movie/frame-00088.png\r\n",
      "/tmp/movie/frame-00039.png  /tmp/movie/frame-00089.png\r\n",
      "/tmp/movie/frame-00040.png  /tmp/movie/frame-00090.png\r\n",
      "/tmp/movie/frame-00041.png  /tmp/movie/frame-00091.png\r\n",
      "/tmp/movie/frame-00042.png  /tmp/movie/frame-00092.png\r\n",
      "/tmp/movie/frame-00043.png  /tmp/movie/frame-00093.png\r\n",
      "/tmp/movie/frame-00044.png  /tmp/movie/frame-00094.png\r\n",
      "/tmp/movie/frame-00045.png  /tmp/movie/frame-00095.png\r\n",
      "/tmp/movie/frame-00046.png  /tmp/movie/frame-00096.png\r\n",
      "/tmp/movie/frame-00047.png  /tmp/movie/frame-00097.png\r\n",
      "/tmp/movie/frame-00048.png  /tmp/movie/frame-00098.png\r\n",
      "/tmp/movie/frame-00049.png  /tmp/movie/frame-00099.png\r\n"
     ]
    }
   ],
   "source": [
    "!ls /tmp/movie/frame*"
   ]
  },
  {
   "cell_type": "code",
   "execution_count": 8,
   "metadata": {
    "collapsed": false
   },
   "outputs": [],
   "source": []
  },
  {
   "cell_type": "code",
   "execution_count": 2,
   "metadata": {
    "collapsed": false,
    "deletable": true,
    "editable": true
   },
   "outputs": [
    {
     "data": {
      "image/png": "[encoded data removed]",
      "text/plain": [
       "<matplotlib.figure.Figure at 0x7fcd85431198>"
      ]
     },
     "metadata": {},
     "output_type": "display_data"
    }
   ],
   "source": [
    "import numpy as np\n",
    "from matplotlib import pyplot as plt\n",
    "from matplotlib import animation\n",
    "\n",
    "# First set up the figure, the axis, and the plot element we want to animate\n",
    "fig = plt.figure()\n",
    "ax = plt.axes(xlim=(0, 2), ylim=(-2, 2))\n",
    "line, = ax.plot([], [], lw=2)\n",
    "\n",
    "# initialization function: plot the background of each frame\n",
    "def init():\n",
    "    line.set_data([], [])\n",
    "    return line,\n",
    "\n",
    "# animation function.  This is called sequentially\n",
    "def animate(i):\n",
    "    x = np.linspace(0, 2, 1000)\n",
    "    y = np.sin(2 * np.pi * (x - 0.01 * i))\n",
    "    line.set_data(x, y)\n",
    "    return line,\n",
    "\n",
    "# call the animator.  blit=True means only re-draw the parts that have changed.\n",
    "anim = animation.FuncAnimation(fig, animate, init_func=init,\n",
    "                               frames=200, interval=20, blit=True)\n",
    "\n",
    "# save the animation as an mp4.  This requires ffmpeg or mencoder to be\n",
    "# installed.  The extra_args ensure that the x264 codec is used, so that\n",
    "# the video can be embedded in html5.  You may need to adjust this for\n",
    "# your system: for more information, see\n",
    "# http://matplotlib.sourceforge.net/api/animation_api.html\n",
    "anim.save('basic_animation.mp4', fps=30, extra_args=['-vcodec', 'libx264'])\n",
    "\n",
    "plt.show()"
   ]
  },
  {
   "cell_type": "code",
   "execution_count": null,
   "metadata": {
    "collapsed": true,
    "deletable": true,
    "editable": true
   },
   "outputs": [],
   "source": []
  }
 ],
 "metadata": {
  "anaconda-cloud": {},
  "kernelspec": {
   "display_name": "Python [default]",
   "language": "python",
   "name": "python3"
  },
  "language_info": {
   "codemirror_mode": {
    "name": "ipython",
    "version": 3
   },
   "file_extension": ".py",
   "mimetype": "text/x-python",
   "name": "python",
   "nbconvert_exporter": "python",
   "pygments_lexer": "ipython3",
   "version": "3.5.2"
  }
 },
 "nbformat": 4,
 "nbformat_minor": 2
}
